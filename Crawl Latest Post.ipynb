{
 "cells": [
  {
   "cell_type": "code",
   "execution_count": 1,
   "metadata": {
    "collapsed": false
   },
   "outputs": [
    {
     "data": {
      "text/plain": [
       "0"
      ]
     },
     "execution_count": 1,
     "metadata": {},
     "output_type": "execute_result"
    }
   ],
   "source": [
    "import os\n",
    "import json\n",
    "\n",
    "os.system(\"scrapy crawl HatUltimo -o hatultimo.json\")"
   ]
  },
  {
   "cell_type": "code",
   "execution_count": 2,
   "metadata": {
    "collapsed": false
   },
   "outputs": [
    {
     "data": {
      "text/plain": [
       "['.DS_Store',\n",
       " '.ipynb_checkpoints',\n",
       " 'Crawl Latest Post.ipynb',\n",
       " 'HatCr',\n",
       " 'hatultimo.json',\n",
       " 'scrapy.cfg']"
      ]
     },
     "execution_count": 2,
     "metadata": {},
     "output_type": "execute_result"
    }
   ],
   "source": [
    "os.listdir('.')"
   ]
  },
  {
   "cell_type": "code",
   "execution_count": 3,
   "metadata": {
    "collapsed": false,
    "scrolled": true
   },
   "outputs": [
    {
     "name": "stdout",
     "output_type": "stream",
     "text": [
      "[{u'desc': [u'Este es un tutorial r\\xe1pido para determinar la elevaci\\xf3n y precipitaci\\xf3n en escala de subcuenca.\\xa0El tutorial cubre los siguientes temas :'], u'link': [u'/ih-es/tutorial-para-determinar-la-elevacion-y-precipitacion-de-subcuencas-en-qgis'], u'title': [u'Tutorial para determinar la Elevaci\\xf3n y Precipitaci\\xf3n de Subcuencas en QGIS']}]\n"
     ]
    }
   ],
   "source": [
    "with open(\"hatultimo.json\") as json_file:\n",
    "    json_data = json.load(json_file)\n",
    "    print(json_data)"
   ]
  },
  {
   "cell_type": "code",
   "execution_count": 4,
   "metadata": {
    "collapsed": false
   },
   "outputs": [
    {
     "name": "stdout",
     "output_type": "stream",
     "text": [
      "Este es un tutorial rápido para determinar la elevación y precipitación en escala de subcuenca. El tutorial cubre los siguientes temas :\n"
     ]
    }
   ],
   "source": [
    "print json_data[0]['desc'][0]"
   ]
  },
  {
   "cell_type": "code",
   "execution_count": 5,
   "metadata": {
    "collapsed": false
   },
   "outputs": [
    {
     "name": "stdout",
     "output_type": "stream",
     "text": [
      "gidahatari.com/ih-es/tutorial-para-determinar-la-elevacion-y-precipitacion-de-subcuencas-en-qgis\n"
     ]
    }
   ],
   "source": [
    "print \"gidahatari.com\" + json_data[0]['link'][0]"
   ]
  },
  {
   "cell_type": "code",
   "execution_count": 6,
   "metadata": {
    "collapsed": false
   },
   "outputs": [
    {
     "name": "stdout",
     "output_type": "stream",
     "text": [
      "Tutorial para determinar la Elevación y Precipitación de Subcuencas en QGIS\n"
     ]
    }
   ],
   "source": [
    "print json_data[0]['title'][0]"
   ]
  },
  {
   "cell_type": "code",
   "execution_count": null,
   "metadata": {
    "collapsed": true
   },
   "outputs": [],
   "source": []
  }
 ],
 "metadata": {
  "kernelspec": {
   "display_name": "Python 2",
   "language": "python",
   "name": "python2"
  },
  "language_info": {
   "codemirror_mode": {
    "name": "ipython",
    "version": 2
   },
   "file_extension": ".py",
   "mimetype": "text/x-python",
   "name": "python",
   "nbconvert_exporter": "python",
   "pygments_lexer": "ipython2",
   "version": "2.7.9"
  }
 },
 "nbformat": 4,
 "nbformat_minor": 0
}
